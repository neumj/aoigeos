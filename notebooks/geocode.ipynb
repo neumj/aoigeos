{
 "cells": [
  {
   "cell_type": "code",
   "execution_count": null,
   "metadata": {},
   "outputs": [],
   "source": [
    "#https://wiki.openstreetmap.org/wiki/Main_Page\n",
    "import requests\n",
    "from bs4 import BeautifulSoup\n",
    "import importlib\n",
    "from aoigeos import geocode"
   ]
  },
  {
   "cell_type": "code",
   "execution_count": null,
   "metadata": {},
   "outputs": [],
   "source": [
    "gc = geocode.Geocode()\n",
    "gc.osm_all_points('new york city')\n",
    "gc.geojson_point"
   ]
  },
  {
   "cell_type": "code",
   "execution_count": null,
   "metadata": {},
   "outputs": [],
   "source": [
    "gc = geocode.Geocode()\n",
    "gc.osm_best_point('new york city')"
   ]
  },
  {
   "cell_type": "code",
   "execution_count": null,
   "metadata": {},
   "outputs": [],
   "source": [
    "gc = geocode.Geocode()\n",
    "gc.geocodefarm_point('new york city')"
   ]
  },
  {
   "cell_type": "code",
   "execution_count": null,
   "metadata": {},
   "outputs": [],
   "source": [
    "gc = geocode.Geocode()\n",
    "gc.bing_point('new york city')\n",
    "gc.polygon_from_point_bbox()"
   ]
  },
  {
   "cell_type": "code",
   "execution_count": null,
   "metadata": {},
   "outputs": [],
   "source": [
    "gc.write_point('point.json')\n",
    "gc.write_polygon('polygon.json')"
   ]
  },
  {
   "cell_type": "code",
   "execution_count": null,
   "metadata": {},
   "outputs": [],
   "source": [
    "page = requests.get('https://data.mongabay.com/cities_pop_01.htm')\n",
    "content = BeautifulSoup(page.text,'html.parser')\n",
    "city_table = content.find(class_='boldtable')\n",
    "city_recs = city_table.find_all('tr')"
   ]
  },
  {
   "cell_type": "code",
   "execution_count": null,
   "metadata": {},
   "outputs": [],
   "source": [
    "city_str = [c.contents[0].text.lower() for c in city_recs]"
   ]
  },
  {
   "cell_type": "code",
   "execution_count": null,
   "metadata": {},
   "outputs": [],
   "source": [
    "city_str = city_str[2::]"
   ]
  }
 ],
 "metadata": {
  "kernelspec": {
   "display_name": "Python 3",
   "language": "python",
   "name": "python3"
  },
  "language_info": {
   "codemirror_mode": {
    "name": "ipython",
    "version": 3
   },
   "file_extension": ".py",
   "mimetype": "text/x-python",
   "name": "python",
   "nbconvert_exporter": "python",
   "pygments_lexer": "ipython3",
   "version": "3.7.7"
  }
 },
 "nbformat": 4,
 "nbformat_minor": 2
}
