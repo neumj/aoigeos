{
 "cells": [
  {
   "cell_type": "code",
   "execution_count": null,
   "metadata": {},
   "outputs": [],
   "source": [
    "#https://wiki.openstreetmap.org/wiki/Main_Page\n",
    "import geocoder\n",
    "import requests\n",
    "from bs4 import BeautifulSoup\n",
    "import yaml\n",
    "from aoigeos import io\n",
    "from aoigeos import converters as cv"
   ]
  },
  {
   "cell_type": "code",
   "execution_count": null,
   "metadata": {},
   "outputs": [],
   "source": [
    "with open(\"../env.yml\", 'r') as stream:\n",
    "    try:\n",
    "        print(yaml.safe_load(stream))\n",
    "    except yaml.YAMLError as exc:\n",
    "        print(exc)"
   ]
  },
  {
   "cell_type": "code",
   "execution_count": null,
   "metadata": {},
   "outputs": [],
   "source": [
    "def geocode_osm_polygon(location_str,max_return=1000):\n",
    "    g = geocoder.osm(location_str,maxRows=max_return)\n",
    "    if g.ok:\n",
    "        gj = g.geojson\n",
    "        i = 0\n",
    "        rank = {'loc':i,'importance':0}\n",
    "        for f in gj['features']:\n",
    "            if f['properties']['importance'] > rank['importance']:\n",
    "                rank.update({'loc':i,'importance':f['properties']['importance']})\n",
    "        return gj['features'][rank['loc']]\n",
    "    else:\n",
    "        return {'status':'no_match','location_str':location_str}\n",
    "\n",
    "def geocode_geocodefarm_polygon(location_str):\n",
    "    g = geocoder.geocodefarm(location_str)\n",
    "    if g.ok:\n",
    "        gj = g.geojson                \n",
    "        bb = gj['features'][0]['properties']['bbox']        \n",
    "        geom = bbox_to_geometry(gj['features'][0]['properties']['bbox'])\n",
    "        gj['features'][0]['geometry'].update(geom)\n",
    "        return gj\n",
    "    else:\n",
    "        return {'status':'no_match','location_str':location_str}\n",
    "\n",
    "def geocode_bing_polygon(location_str,bing_key):\n",
    "    g = geocoder.bing(location_str,key=bing_key)\n",
    "    if g.ok:\n",
    "        gj = g.geojson                \n",
    "        return gj\n",
    "    else:\n",
    "        return {'status':'no_match','location_str':location_str}\n",
    "\n",
    "    \n",
    "class Geocode():\n",
    "    \n",
    "    def osm_all_points(self,location_str,max_return=1000):\n",
    "        g = geocoder.osm(location_str,maxRows=max_return)\n",
    "        if g.ok:\n",
    "            self.geojson_point = g.geojson\n",
    "        else:\n",
    "            self.geojson_point = {'status':'no_match','location_str':location_str}\n",
    "\n",
    "    def osm_best_point(self,location_str,max_return=1000):\n",
    "        self.osm_all_points(location_str,max_return=1000)\n",
    "        i = 0\n",
    "        rank = {'loc':i,'importance':0}\n",
    "        for f in self.geojson_point['features']:\n",
    "            if f['properties']['importance'] > rank['importance']:\n",
    "                rank.update({'loc':i,'importance':f['properties']['importance']})\n",
    "        winner = self.geojson_point['features'][rank['loc']]\n",
    "        self.geojson_point = cv.geojson_from_features([winner])\n"
   ]
  },
  {
   "cell_type": "code",
   "execution_count": null,
   "metadata": {},
   "outputs": [],
   "source": [
    "gc = Geocode()\n",
    "gc.osm_all_points('new york city')"
   ]
  },
  {
   "cell_type": "code",
   "execution_count": null,
   "metadata": {},
   "outputs": [],
   "source": [
    "gc = Geocode()\n",
    "gc.osm_best_point('new york city')"
   ]
  },
  {
   "cell_type": "code",
   "execution_count": null,
   "metadata": {},
   "outputs": [],
   "source": [
    "page = requests.get('https://data.mongabay.com/cities_pop_01.htm')\n",
    "content = BeautifulSoup(page.text,'html.parser')\n",
    "city_table = content.find(class_='boldtable')\n",
    "city_recs = city_table.find_all('tr')\n",
    "i = 0\n",
    "geojson = {\"type\": \"FeatureCollection\",\"features\": []}\n",
    "errors = []\n",
    "for c in city_recs:\n",
    "    if i > 1:\n",
    "        city_str = c.contents[0].text.lower()\n",
    "        gj = geocode_bing_polygon(city_str)\n",
    "        if gj['status'] != 'no_match':\n",
    "            geojson['features'].append(gj['features'][0])\n",
    "        else:\n",
    "            errors.append(city_str)\n",
    "    i += 1\n",
    "    if i % 100 == 0:\n",
    "        print(i)"
   ]
  },
  {
   "cell_type": "code",
   "execution_count": null,
   "metadata": {},
   "outputs": [],
   "source": [
    "city_recs = read_json('/Users/michaeln/Documents/data/archipelago/aois/cities.json')"
   ]
  },
  {
   "cell_type": "code",
   "execution_count": null,
   "metadata": {},
   "outputs": [],
   "source": [
    "quality_list = ['AdminDivision1','PopulatedPlace']\n",
    "i = 0\n",
    "geojson = {\"type\": \"FeatureCollection\",\"features\": []}\n",
    "errors = []\n",
    "for c in city_recs['features']:\n",
    "    city_str = c['properties']['name']\n",
    "    city_gj = geocode_bing_polygon(city_str)\n",
    "    if 'status' not in city_gj.keys():\n",
    "        if gj['features'][0]['properties']['quality'] in quality_list:\n",
    "            geojson['features'].append(gj['features'][0])\n",
    "        else:\n",
    "            errors.append(city_str)\n",
    "    else:\n",
    "        errors.append(city_str)\n",
    "    i += 1\n",
    "    if i % 100 == 0:\n",
    "        print(i)\n"
   ]
  },
  {
   "cell_type": "code",
   "execution_count": null,
   "metadata": {},
   "outputs": [],
   "source": [
    "write_json(geojson,'/Users/michaeln/Documents/data/archipelago/aois/cities-3-bing.json')"
   ]
  },
  {
   "cell_type": "code",
   "execution_count": null,
   "metadata": {},
   "outputs": [],
   "source": [
    "len(errors)"
   ]
  },
  {
   "cell_type": "code",
   "execution_count": null,
   "metadata": {},
   "outputs": [],
   "source": [
    "errors"
   ]
  },
  {
   "cell_type": "code",
   "execution_count": null,
   "metadata": {},
   "outputs": [],
   "source": [
    "i=0\n",
    "for f in geojson['features']:\n",
    "    if f['properties']['quality']!='PopulatedPlace':\n",
    "        i+=1\n",
    "print(i)"
   ]
  },
  {
   "cell_type": "code",
   "execution_count": null,
   "metadata": {},
   "outputs": [],
   "source": [
    "f"
   ]
  },
  {
   "cell_type": "code",
   "execution_count": null,
   "metadata": {},
   "outputs": [],
   "source": [
    "a = geocode_bing_polygon('seoul, south korea')"
   ]
  },
  {
   "cell_type": "code",
   "execution_count": null,
   "metadata": {},
   "outputs": [],
   "source": [
    "type(a)"
   ]
  },
  {
   "cell_type": "code",
   "execution_count": null,
   "metadata": {},
   "outputs": [],
   "source": [
    "quality_list = ['AdminDivision1','PopulatedPlace']"
   ]
  },
  {
   "cell_type": "code",
   "execution_count": null,
   "metadata": {},
   "outputs": [],
   "source": [
    "'PopulatedPlace' in quality_list"
   ]
  }
 ],
 "metadata": {
  "kernelspec": {
   "display_name": "Python 3",
   "language": "python",
   "name": "python3"
  },
  "language_info": {
   "codemirror_mode": {
    "name": "ipython",
    "version": 3
   },
   "file_extension": ".py",
   "mimetype": "text/x-python",
   "name": "python",
   "nbconvert_exporter": "python",
   "pygments_lexer": "ipython3",
   "version": "3.7.7"
  }
 },
 "nbformat": 4,
 "nbformat_minor": 2
}
