{
 "cells": [
  {
   "cell_type": "code",
   "execution_count": 1,
   "metadata": {},
   "outputs": [],
   "source": [
    "from aoigeos import polygon as pl\n",
    "from aoigeos import grid as gr\n",
    "from aoigeos import converters as cv\n",
    "from aoigeos import io"
   ]
  },
  {
   "cell_type": "code",
   "execution_count": 2,
   "metadata": {},
   "outputs": [
    {
     "data": {
      "text/plain": [
       "<module 'aoigeos.converters' from '/Users/michaeln/Documents/code/aoigeos/aoigeos/converters.py'>"
      ]
     },
     "execution_count": 2,
     "metadata": {},
     "output_type": "execute_result"
    }
   ],
   "source": [
    "import importlib\n",
    "importlib.reload(cv)"
   ]
  },
  {
   "cell_type": "code",
   "execution_count": 3,
   "metadata": {},
   "outputs": [],
   "source": [
    "hg = gr.HexGrid()"
   ]
  },
  {
   "cell_type": "code",
   "execution_count": 4,
   "metadata": {},
   "outputs": [],
   "source": [
    "hg.generate_hex_centroids(33.0,-120.0,0.5,1,2)"
   ]
  },
  {
   "cell_type": "code",
   "execution_count": 5,
   "metadata": {},
   "outputs": [],
   "source": [
    "hg.hex_grid_from_centroids()"
   ]
  },
  {
   "cell_type": "code",
   "execution_count": 6,
   "metadata": {},
   "outputs": [],
   "source": [
    "hg.wkt_grid_from_hexes()"
   ]
  },
  {
   "cell_type": "code",
   "execution_count": 7,
   "metadata": {},
   "outputs": [],
   "source": [
    "hg.ewkt_grid_from_hexes()"
   ]
  },
  {
   "cell_type": "code",
   "execution_count": 8,
   "metadata": {},
   "outputs": [
    {
     "data": {
      "text/plain": [
       "['SRID=4326;POLYGON((-118.75 32.56698729810778,-119.0 33.0,-119.5 33.0,-119.75 32.56698729810778,-119.5 32.133974596215566,-119.0 32.133974596215566,-118.75 32.56698729810778))',\n",
       " 'SRID=4326;POLYGON((-118.75 32.56698729810778,-119.0 33.0,-119.5 33.0,-119.75 32.56698729810778,-119.5 32.133974596215566,-119.0 32.133974596215566,-118.75 32.56698729810778))']"
      ]
     },
     "execution_count": 8,
     "metadata": {},
     "output_type": "execute_result"
    }
   ],
   "source": [
    "hg.hex_grid_ewkt"
   ]
  },
  {
   "cell_type": "code",
   "execution_count": 9,
   "metadata": {},
   "outputs": [
    {
     "data": {
      "text/plain": [
       "['POLYGON((-118.75 32.56698729810778,-119.0 33.0,-119.5 33.0,-119.75 32.56698729810778,-119.5 32.133974596215566,-119.0 32.133974596215566,-118.75 32.56698729810778))',\n",
       " 'POLYGON((-118.75 32.56698729810778,-119.0 33.0,-119.5 33.0,-119.75 32.56698729810778,-119.5 32.133974596215566,-119.0 32.133974596215566,-118.75 32.56698729810778))']"
      ]
     },
     "execution_count": 9,
     "metadata": {},
     "output_type": "execute_result"
    }
   ],
   "source": [
    "hg.hex_grid_wkt"
   ]
  },
  {
   "cell_type": "code",
   "execution_count": 10,
   "metadata": {},
   "outputs": [
    {
     "data": {
      "text/plain": [
       "[[[-118.75, 32.56698729810778],\n",
       "  [-119.0, 33.0],\n",
       "  [-119.5, 33.0],\n",
       "  [-119.75, 32.56698729810778],\n",
       "  [-119.5, 32.133974596215566],\n",
       "  [-119.0, 32.133974596215566],\n",
       "  [-118.75, 32.56698729810778]]]"
      ]
     },
     "execution_count": 10,
     "metadata": {},
     "output_type": "execute_result"
    }
   ],
   "source": [
    "coords = cv.wkt_to_geojson_coords(hg.hex_grid_wkt[0])\n",
    "coords"
   ]
  },
  {
   "cell_type": "code",
   "execution_count": 11,
   "metadata": {},
   "outputs": [],
   "source": [
    "geojson = {'type': 'FeatureCollection','features':[]}\n",
    "for i in range(0,len(hg.hex_grid_wkt)):\n",
    "    coords = cv.wkt_to_geojson_coords(hg.hex_grid_wkt[i])\n",
    "    row = {'type':'Feature','properties':{'name':'hex' + str(i)},'geometry':{'type':'Polygon'}}\n",
    "    row['geometry'].update({'coordinates':coords})\n",
    "    geojson['features'].append(row)"
   ]
  },
  {
   "cell_type": "code",
   "execution_count": 12,
   "metadata": {},
   "outputs": [
    {
     "data": {
      "text/plain": [
       "{'type': 'FeatureCollection',\n",
       " 'features': [{'type': 'Feature',\n",
       "   'properties': {'name': 'hex0'},\n",
       "   'geometry': {'type': 'Polygon',\n",
       "    'coordinates': [[[-118.75, 32.56698729810778],\n",
       "      [-119.0, 33.0],\n",
       "      [-119.5, 33.0],\n",
       "      [-119.75, 32.56698729810778],\n",
       "      [-119.5, 32.133974596215566],\n",
       "      [-119.0, 32.133974596215566],\n",
       "      [-118.75, 32.56698729810778]]]}},\n",
       "  {'type': 'Feature',\n",
       "   'properties': {'name': 'hex1'},\n",
       "   'geometry': {'type': 'Polygon',\n",
       "    'coordinates': [[[-118.75, 32.56698729810778],\n",
       "      [-119.0, 33.0],\n",
       "      [-119.5, 33.0],\n",
       "      [-119.75, 32.56698729810778],\n",
       "      [-119.5, 32.133974596215566],\n",
       "      [-119.0, 32.133974596215566],\n",
       "      [-118.75, 32.56698729810778]]]}}]}"
      ]
     },
     "execution_count": 12,
     "metadata": {},
     "output_type": "execute_result"
    }
   ],
   "source": [
    "geojson"
   ]
  },
  {
   "cell_type": "code",
   "execution_count": 13,
   "metadata": {},
   "outputs": [],
   "source": [
    "io.write_json(geojson,'test.json')"
   ]
  },
  {
   "cell_type": "code",
   "execution_count": 14,
   "metadata": {},
   "outputs": [
    {
     "data": {
      "text/plain": [
       "{'type': 'FeatureCollection',\n",
       " 'features': [{'type': 'Feature',\n",
       "   'properties': {'name': 'hex0'},\n",
       "   'geometry': {'type': 'Polygon',\n",
       "    'coordinates': [[[-118.75, 32.56698729810778],\n",
       "      [-119.0, 33.0],\n",
       "      [-119.5, 33.0],\n",
       "      [-119.75, 32.56698729810778],\n",
       "      [-119.5, 32.133974596215566],\n",
       "      [-119.0, 32.133974596215566],\n",
       "      [-118.75, 32.56698729810778]]]}},\n",
       "  {'type': 'Feature',\n",
       "   'properties': {'name': 'hex1'},\n",
       "   'geometry': {'type': 'Polygon',\n",
       "    'coordinates': [[[-118.75, 32.56698729810778],\n",
       "      [-119.0, 33.0],\n",
       "      [-119.5, 33.0],\n",
       "      [-119.75, 32.56698729810778],\n",
       "      [-119.5, 32.133974596215566],\n",
       "      [-119.0, 32.133974596215566],\n",
       "      [-118.75, 32.56698729810778]]]}}]}"
      ]
     },
     "execution_count": 14,
     "metadata": {},
     "output_type": "execute_result"
    }
   ],
   "source": [
    "geojson"
   ]
  },
  {
   "cell_type": "code",
   "execution_count": null,
   "metadata": {},
   "outputs": [],
   "source": [
    "coords"
   ]
  },
  {
   "cell_type": "code",
   "execution_count": null,
   "metadata": {},
   "outputs": [],
   "source": [
    "coords = cv.wkt_to_geojson_coords(hg.hex_grid_wkt[i])"
   ]
  },
  {
   "cell_type": "code",
   "execution_count": null,
   "metadata": {},
   "outputs": [],
   "source": [
    "coords"
   ]
  },
  {
   "cell_type": "code",
   "execution_count": null,
   "metadata": {},
   "outputs": [],
   "source": []
  }
 ],
 "metadata": {
  "kernelspec": {
   "display_name": "Python 3",
   "language": "python",
   "name": "python3"
  },
  "language_info": {
   "codemirror_mode": {
    "name": "ipython",
    "version": 3
   },
   "file_extension": ".py",
   "mimetype": "text/x-python",
   "name": "python",
   "nbconvert_exporter": "python",
   "pygments_lexer": "ipython3",
   "version": "3.7.7"
  }
 },
 "nbformat": 4,
 "nbformat_minor": 4
}
