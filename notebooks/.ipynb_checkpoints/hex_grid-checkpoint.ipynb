{
 "cells": [
  {
   "cell_type": "code",
   "execution_count": 24,
   "metadata": {},
   "outputs": [],
   "source": [
    "import math"
   ]
  },
  {
   "cell_type": "code",
   "execution_count": 25,
   "metadata": {},
   "outputs": [],
   "source": [
    "class GeoPolygon():\n",
    "    def __init__(self,srid=4326):\n",
    "        self.srid = srid\n",
    "    \n",
    "    def from_centroid(self,num_sides, center_latitude, center_longitude, radius_decimal_degrees):\n",
    "        if num_sides > 2:\n",
    "            vertices = [None] * (num_sides + 1)\n",
    "        for i in range(0, num_sides):\n",
    "            angle_step = 360. / num_sides\n",
    "            angle_deg = angle_step * i\n",
    "            angle_rad = math.pi / 180.0 * angle_deg\n",
    "            y_vert = center_latitude + radius_decimal_degrees * math.sin(angle_rad)\n",
    "            if abs(y_vert) < 1e-5:\n",
    "                y_vert = 0\n",
    "            x_vert = center_longitude + radius_decimal_degrees * math.cos(angle_rad)\n",
    "            if abs(x_vert) < 1e-5:\n",
    "                x_vert = 0\n",
    "            vert = {'x': x_vert, 'y': y_vert}\n",
    "            vertices[i] = (vert)\n",
    "            if i == 0:\n",
    "                vertices[num_sides] = vert\n",
    "        self.vertices = vertices\n",
    "        self.center_latitude = center_latitude\n",
    "        self.center_longitude = center_longitude\n",
    "        self.radius = radius_decimal_degrees\n",
    "        \n",
    "    def to_wkt(self):\n",
    "        v_str = ''\n",
    "        for v in self.vertices:\n",
    "            v_str = v_str + str(v['x']) + ' ' + str(v['y']) + ','\n",
    "        v_str=v_str[0:-1]\n",
    "        self.wkt = 'POLYGON(({v_str}))'.format(v_str=v_str)\n",
    "        \n",
    "    def to_ewkt(self):\n",
    "        v_str = ''\n",
    "        for v in self.vertices:\n",
    "            v_str = v_str + str(v['x']) + ' ' + str(v['y']) + ','\n",
    "        v_str=v_str[0:-1]\n",
    "        self.ewkt = 'SRID={srid};POLYGON(({v_str}))'.format(srid=self.srid,v_str=v_str)\n",
    "\n",
    "def decimaldegrees_meters(dd_float):\n",
    "    \"\"\"convert decimal degrees to meters.  based on standard decimal degree\n",
    "    \n",
    "    \"\"\"\n",
    "    dd = dd_float * 111325.\n",
    "    return dd\n",
    "\n",
    "def meters_decimaldegrees(meters_float):\n",
    "    \"\"\"convert meters to decimal degrees.  based on standard decimal degree\n",
    "    \n",
    "    \"\"\"\n",
    "    m = meters_float / 111325.\n",
    "    return m"
   ]
  },
  {
   "cell_type": "code",
   "execution_count": 26,
   "metadata": {},
   "outputs": [],
   "source": [
    "def generate_hex_centroids(ullat,ullon,radius_dd,nrows,ncols):\n",
    "    \"\"\"\n",
    "    \n",
    "    \"\"\"\n",
    "    centers = []\n",
    "    width = float(radius_dd) * 2\n",
    "    horiz = width * 3.0/4.0\n",
    "    height = (math.sqrt(3.0) / 2.0) * width\n",
    "    vert = height / 2.0\n",
    "    for i in range(0,ncols):\n",
    "        x0 = (i * horiz) + float(ullon)\n",
    "        for j in range(0,nrows):\n",
    "            if i % 2 == 0:\n",
    "                y0 = float(ullat) - (j * vert * 2)\n",
    "            else:\n",
    "                odlat = ullat - vert\n",
    "                y0 = float(odlat) - (j * vert * 2)\n",
    "            centers.append((x0,y0,radius_dd))\n",
    "    return centers"
   ]
  },
  {
   "cell_type": "code",
   "execution_count": 50,
   "metadata": {},
   "outputs": [],
   "source": [
    "def hexes_from_centroids(centroids):\n",
    "    grid = []\n",
    "    grid_wkt = []\n",
    "    grid_ewkt = []\n",
    "    p = GeoPolygon()\n",
    "    for c in centroids:\n",
    "        p.from_centroid(6,c[1],c[0],c[2])\n",
    "        p.to_wkt()\n",
    "        p.to_ewkt()\n",
    "        grid.append(p)\n",
    "        grid_wkt.append(p.wkt)\n",
    "        grid_ewkt.append(p.ewkt)\n",
    "    return grid_wkt\n",
    "        "
   ]
  },
  {
   "cell_type": "code",
   "execution_count": 48,
   "metadata": {},
   "outputs": [],
   "source": [
    "c = generate_centers(33.0,-120.0,0.5,5,5)"
   ]
  },
  {
   "cell_type": "code",
   "execution_count": 36,
   "metadata": {},
   "outputs": [],
   "source": [
    "p = GeoPolygon()"
   ]
  },
  {
   "cell_type": "code",
   "execution_count": null,
   "metadata": {},
   "outputs": [],
   "source": [
    "p."
   ]
  },
  {
   "cell_type": "code",
   "execution_count": 51,
   "metadata": {},
   "outputs": [],
   "source": [
    "hg = hexes_from_centroids(c)"
   ]
  },
  {
   "cell_type": "code",
   "execution_count": 53,
   "metadata": {},
   "outputs": [
    {
     "data": {
      "text/plain": [
       "'POLYGON((-119.5 33.0,-119.75 33.43301270189222,-120.25 33.43301270189222,-120.5 33.0,-120.25 32.56698729810778,-119.75 32.56698729810778,-119.5 33.0))'"
      ]
     },
     "execution_count": 53,
     "metadata": {},
     "output_type": "execute_result"
    }
   ],
   "source": [
    "hg[0]"
   ]
  },
  {
   "cell_type": "code",
   "execution_count": 31,
   "metadata": {},
   "outputs": [],
   "source": [
    "p = GeoPolygon()"
   ]
  },
  {
   "cell_type": "code",
   "execution_count": 32,
   "metadata": {},
   "outputs": [],
   "source": [
    "p.from_centroid(20,25,25,1)"
   ]
  },
  {
   "cell_type": "code",
   "execution_count": 33,
   "metadata": {},
   "outputs": [],
   "source": [
    "p.to_wkt()"
   ]
  },
  {
   "cell_type": "code",
   "execution_count": 93,
   "metadata": {},
   "outputs": [],
   "source": [
    "p.to_ewkt()"
   ]
  },
  {
   "cell_type": "code",
   "execution_count": 95,
   "metadata": {},
   "outputs": [
    {
     "data": {
      "text/plain": [
       "'SRID=4326;POLYGON((26.0 25.0,25.951056516295154 25.309016994374947,25.809016994374947 25.587785252292473,25.587785252292473 25.809016994374947,25.309016994374947 25.951056516295154,25.0 26.0,24.690983005625053 25.951056516295154,24.412214747707527 25.809016994374947,24.190983005625053 25.587785252292473,24.048943483704846 25.309016994374947,24.0 25.0,24.048943483704846 24.690983005625053,24.190983005625053 24.412214747707527,24.412214747707527 24.190983005625053,24.690983005625053 24.048943483704846,25.0 24.0,25.309016994374947 24.048943483704846,25.587785252292473 24.190983005625053,25.809016994374947 24.412214747707527,25.951056516295154 24.690983005625053,26.0 25.0))'"
      ]
     },
     "execution_count": 95,
     "metadata": {},
     "output_type": "execute_result"
    }
   ],
   "source": [
    "p.ewkt"
   ]
  },
  {
   "cell_type": "code",
   "execution_count": 74,
   "metadata": {},
   "outputs": [],
   "source": [
    "v_str = ''\n",
    "for v in p.vertices:\n",
    "    v_str = v_str + str(v['x']) + ' ' + str(v['y']) + ',' "
   ]
  },
  {
   "cell_type": "code",
   "execution_count": 75,
   "metadata": {},
   "outputs": [],
   "source": [
    "v_str=v_str[0:-1]"
   ]
  },
  {
   "cell_type": "code",
   "execution_count": 76,
   "metadata": {},
   "outputs": [
    {
     "data": {
      "text/plain": [
       "'POLYGON((26.0 25.0,25.951056516295154 25.309016994374947,25.809016994374947 25.587785252292473,25.587785252292473 25.809016994374947,25.309016994374947 25.951056516295154,25.0 26.0,24.690983005625053 25.951056516295154,24.412214747707527 25.809016994374947,24.190983005625053 25.587785252292473,24.048943483704846 25.309016994374947,24.0 25.0,24.048943483704846 24.690983005625053,24.190983005625053 24.412214747707527,24.412214747707527 24.190983005625053,24.690983005625053 24.048943483704846,25.0 24.0,25.309016994374947 24.048943483704846,25.587785252292473 24.190983005625053,25.809016994374947 24.412214747707527,25.951056516295154 24.690983005625053,26.0 25.0))'"
      ]
     },
     "execution_count": 76,
     "metadata": {},
     "output_type": "execute_result"
    }
   ],
   "source": [
    "'POLYGON(({v_str}))'.format(v_str=v_str)"
   ]
  },
  {
   "cell_type": "code",
   "execution_count": null,
   "metadata": {},
   "outputs": [],
   "source": []
  }
 ],
 "metadata": {
  "kernelspec": {
   "display_name": "Python 3",
   "language": "python",
   "name": "python3"
  },
  "language_info": {
   "codemirror_mode": {
    "name": "ipython",
    "version": 3
   },
   "file_extension": ".py",
   "mimetype": "text/x-python",
   "name": "python",
   "nbconvert_exporter": "python",
   "pygments_lexer": "ipython3",
   "version": "3.8.2"
  }
 },
 "nbformat": 4,
 "nbformat_minor": 4
}
